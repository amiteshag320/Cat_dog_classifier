{
  "nbformat": 4,
  "nbformat_minor": 0,
  "metadata": {
    "kernelspec": {
      "display_name": "Python 3",
      "language": "python",
      "name": "python3"
    },
    "language_info": {
      "codemirror_mode": {
        "name": "ipython",
        "version": 3
      },
      "file_extension": ".py",
      "mimetype": "text/x-python",
      "name": "python",
      "nbconvert_exporter": "python",
      "pygments_lexer": "ipython3",
      "version": "3.8.3"
    },
    "colab": {
      "name": "CIFAR_with_CNN.ipynb",
      "provenance": [],
      "collapsed_sections": []
    },
    "accelerator": "GPU"
  },
  "cells": [
    {
      "cell_type": "code",
      "metadata": {
        "id": "f9bsQdVVrLVf"
      },
      "source": [
        "import pandas as pd\n",
        "import math\n",
        "import tensorflow as tf\n",
        "from tensorflow import keras\n",
        "from tensorflow.keras.layers import Dense\n",
        "from tensorflow.keras.models import Sequential\n",
        "from tensorflow.keras.layers import Dropout\n",
        "from tensorflow.keras.layers import Conv2D, MaxPool2D,Flatten , BatchNormalization\n",
        "from tensorflow.keras.preprocessing.image import ImageDataGenerator\n",
        "import numpy as np\n",
        "import matplotlib.pyplot as plt"
      ],
      "execution_count": 1,
      "outputs": []
    },
    {
      "cell_type": "code",
      "metadata": {
        "id": "w8rNHm3IrLV4",
        "outputId": "9758d8e3-a2e2-443f-a07e-af23a84b0640",
        "colab": {
          "base_uri": "https://localhost:8080/",
          "height": 52
        }
      },
      "source": [
        "(X_train , Y_train ),(X_test , Y_test) = keras.datasets.cifar10.load_data()"
      ],
      "execution_count": 2,
      "outputs": [
        {
          "output_type": "stream",
          "text": [
            "Downloading data from https://www.cs.toronto.edu/~kriz/cifar-10-python.tar.gz\n",
            "170500096/170498071 [==============================] - 6s 0us/step\n"
          ],
          "name": "stdout"
        }
      ]
    },
    {
      "cell_type": "code",
      "metadata": {
        "id": "Vph2ic18rLWK",
        "outputId": "bc9cb53b-741e-4ecb-8fd2-eccac55b36ff",
        "colab": {
          "base_uri": "https://localhost:8080/",
          "height": 285
        }
      },
      "source": [
        "plt.imshow(X_train[1])  \n",
        "plt.title(\"training label is \" + str(Y_train[1]))\n",
        "plt.xticks([])\n",
        "plt.yticks([])"
      ],
      "execution_count": 3,
      "outputs": [
        {
          "output_type": "execute_result",
          "data": {
            "text/plain": [
              "([], <a list of 0 Text major ticklabel objects>)"
            ]
          },
          "metadata": {
            "tags": []
          },
          "execution_count": 3
        },
        {
          "output_type": "display_data",
          "data": {
            "image/png": "[encoded data removed]",
            "text/plain": [
              "<Figure size 432x288 with 1 Axes>"
            ]
          },
          "metadata": {
            "tags": []
          }
        }
      ]
    },
    {
      "cell_type": "code",
      "metadata": {
        "id": "DeV-nzZzrLWa",
        "outputId": "84d3e06a-6317-4c79-f50e-5aaf104a3253",
        "colab": {
          "base_uri": "https://localhost:8080/",
          "height": 34
        }
      },
      "source": [
        "_train = X_train.astype('float32')\n",
        "X_test = X_test.astype('float32')\n",
        "\n",
        "X_train = X_train / 255\n",
        "X_test = X_test / 255\n",
        "X_train.shape"
      ],
      "execution_count": 4,
      "outputs": [
        {
          "output_type": "execute_result",
          "data": {
            "text/plain": [
              "(50000, 32, 32, 3)"
            ]
          },
          "metadata": {
            "tags": []
          },
          "execution_count": 4
        }
      ]
    },
    {
      "cell_type": "code",
      "metadata": {
        "id": "Pre0nIP5rLWm"
      },
      "source": [
        "num_classes = 10 \n",
        "Y_train = keras.utils.to_categorical(Y_train,num_classes)\n",
        "Y_test = keras.utils.to_categorical(Y_test,num_classes)\n"
      ],
      "execution_count": 5,
      "outputs": []
    },
    {
      "cell_type": "code",
      "metadata": {
        "id": "lS96B7iZrLWz"
      },
      "source": [
        "model = Sequential()\n",
        "model.add(Conv2D(filters=32, kernel_size=(3, 3), input_shape=(32, 32, 3), activation='relu', padding='same'))\n",
        "model.add(BatchNormalization())\n",
        "model.add(Conv2D(filters=32, kernel_size=(3, 3), activation='relu', padding='same'))\n",
        "model.add(BatchNormalization())\n",
        "MaxPool2D(pool_size=(2, 2), strides=2)\n",
        "model.add(Dropout(0.2))\n",
        "\n",
        "model.add(Conv2D(filters=64, kernel_size=(3, 3), activation='relu', padding='same'))\n",
        "model.add(BatchNormalization())\n",
        "model.add(Conv2D(filters=64, kernel_size=(3, 3), activation='relu', padding='same'))\n",
        "model.add(BatchNormalization())\n",
        "MaxPool2D(pool_size=(2, 2), strides=2)\n",
        "model.add(Dropout(0.3))\n",
        "\n",
        "model.add(Conv2D(filters=128, kernel_size=(3, 3), activation='relu', padding='same'))\n",
        "model.add(BatchNormalization())\n",
        "model.add(Conv2D(filters=128, kernel_size=(3, 3), activation='relu', padding='same'))\n",
        "model.add(BatchNormalization())\n",
        "MaxPool2D(pool_size=(2, 2), strides=2)\n",
        "model.add(Dropout(0.4))\n",
        "\n",
        "model.add(Flatten())\n",
        "model.add(Dense(128, activation='relu'))\n",
        "model.add(Dropout(0.2))\n",
        "model.add(Dense(10, activation='softmax'))\n",
        "          "
      ],
      "execution_count": 6,
      "outputs": []
    },
    {
      "cell_type": "code",
      "metadata": {
        "id": "CilsO-C4rLW_"
      },
      "source": [
        "datagen = ImageDataGenerator( \n",
        "         rotation_range=15,\n",
        "    width_shift_range=0.1,\n",
        "    height_shift_range=0.1,\n",
        "    horizontal_flip=True) \n",
        "datagen.fit(X_train)"
      ],
      "execution_count": 7,
      "outputs": []
    },
    {
      "cell_type": "code",
      "metadata": {
        "id": "rfdxM5QArLXI"
      },
      "source": [
        "model.compile(loss='categorical_crossentropy', optimizer='adam', metrics=['accuracy'])\n",
        "\n",
        "\n",
        "X_valid, X_train = X_train[:5000], X_train[5000:]\n",
        "Y_valid, Y_train = Y_train[:5000], Y_train[5000:]\n"
      ],
      "execution_count": 8,
      "outputs": []
    },
    {
      "cell_type": "code",
      "metadata": {
        "scrolled": true,
        "id": "KkokqTq5rLXQ",
        "outputId": "e6e0d21f-fd1e-46cf-970a-8a7568c40961",
        "colab": {
          "base_uri": "https://localhost:8080/",
          "height": 364
        }
      },
      "source": [
        "r=model.fit_generator(datagen.flow(X_train, Y_train, batch_size=128),\\\n",
        "                    steps_per_epoch=X_train.shape[0] // 128,epochs=10,\\\n",
        "                    verbose=1,validation_data=(X_valid,Y_valid))\n"
      ],
      "execution_count": 16,
      "outputs": [
        {
          "output_type": "stream",
          "text": [
            "Epoch 1/10\n",
            "351/351 [==============================] - 23s 66ms/step - loss: 0.4187 - accuracy: 0.8590 - val_loss: 0.4842 - val_accuracy: 0.8694\n",
            "Epoch 2/10\n",
            "351/351 [==============================] - 23s 66ms/step - loss: 0.4258 - accuracy: 0.8580 - val_loss: 0.4485 - val_accuracy: 0.8654\n",
            "Epoch 3/10\n",
            "351/351 [==============================] - 23s 66ms/step - loss: 0.4206 - accuracy: 0.8605 - val_loss: 0.7631 - val_accuracy: 0.8570\n",
            "Epoch 4/10\n",
            "351/351 [==============================] - 23s 66ms/step - loss: 0.4227 - accuracy: 0.8593 - val_loss: 0.4976 - val_accuracy: 0.8614\n",
            "Epoch 5/10\n",
            "351/351 [==============================] - 23s 66ms/step - loss: 0.4251 - accuracy: 0.8589 - val_loss: 0.5452 - val_accuracy: 0.8678\n",
            "Epoch 6/10\n",
            "351/351 [==============================] - 23s 66ms/step - loss: 0.4185 - accuracy: 0.8588 - val_loss: 0.5354 - val_accuracy: 0.8600\n",
            "Epoch 7/10\n",
            "351/351 [==============================] - 23s 66ms/step - loss: 0.4154 - accuracy: 0.8601 - val_loss: 0.7166 - val_accuracy: 0.8448\n",
            "Epoch 8/10\n",
            "351/351 [==============================] - 23s 66ms/step - loss: 0.4085 - accuracy: 0.8634 - val_loss: 0.5020 - val_accuracy: 0.8754\n",
            "Epoch 9/10\n",
            "351/351 [==============================] - 24s 67ms/step - loss: 0.4134 - accuracy: 0.8616 - val_loss: 0.6994 - val_accuracy: 0.8484\n",
            "Epoch 10/10\n",
            "351/351 [==============================] - 23s 66ms/step - loss: 0.4098 - accuracy: 0.8643 - val_loss: 0.7089 - val_accuracy: 0.8596\n"
          ],
          "name": "stdout"
        }
      ]
    },
    {
      "cell_type": "code",
      "metadata": {
        "id": "kGj3k_V9rLXg",
        "outputId": "a1ee1b43-d6a2-478a-c6b7-f3d93aa3e563",
        "colab": {
          "base_uri": "https://localhost:8080/",
          "height": 298
        }
      },
      "source": [
        "plt.plot(r.history['accuracy'], label='accuracy')\n",
        "plt.plot(r.history['val_accuracy'], label='val_accuracy')\n",
        "plt.legend()\n",
        "plt.title('Accuracy evolution')\n"
      ],
      "execution_count": 17,
      "outputs": [
        {
          "output_type": "execute_result",
          "data": {
            "text/plain": [
              "Text(0.5, 1.0, 'Accuracy evolution')"
            ]
          },
          "metadata": {
            "tags": []
          },
          "execution_count": 17
        },
        {
          "output_type": "display_data",
          "data": {
            "image/png": "[encoded data removed]",
            "text/plain": [
              "<Figure size 432x288 with 1 Axes>"
            ]
          },
          "metadata": {
            "tags": [],
            "needs_background": "light"
          }
        }
      ]
    },
    {
      "cell_type": "code",
      "metadata": {
        "id": "nx40ou9lrLXs",
        "outputId": "54e2b360-5836-423f-ac39-0bf09f76bfba",
        "colab": {
          "base_uri": "https://localhost:8080/",
          "height": 34
        }
      },
      "source": [
        "test_loss, test_acc = model.evaluate(X_test,  Y_test, verbose=2)"
      ],
      "execution_count": 18,
      "outputs": [
        {
          "output_type": "stream",
          "text": [
            "313/313 - 1s - loss: 0.8367 - accuracy: 0.8424\n"
          ],
          "name": "stdout"
        }
      ]
    },
    {
      "cell_type": "code",
      "metadata": {
        "id": "tlPRgktCrLX3"
      },
      "source": [
        ""
      ],
      "execution_count": 18,
      "outputs": []
    }
  ]
}